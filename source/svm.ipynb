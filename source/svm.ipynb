{
 "cells": [
  {
   "cell_type": "code",
   "execution_count": 1,
   "metadata": {
    "collapsed": true
   },
   "outputs": [
    {
     "ename": "ImportError",
     "evalue": "No module named 'extract_data'",
     "traceback": [
      "\u001b[0;31m---------------------------------------------------------------------------\u001b[0m",
      "\u001b[0;31mImportError\u001b[0m                               Traceback (most recent call last)",
      "\u001b[0;32m<ipython-input-1-87969f50ed61>\u001b[0m in \u001b[0;36m<module>\u001b[0;34m()\u001b[0m\n\u001b[1;32m      7\u001b[0m \u001b[0;32mimport\u001b[0m \u001b[0mmatplotlib\u001b[0m\u001b[0;34m.\u001b[0m\u001b[0mpyplot\u001b[0m \u001b[0;32mas\u001b[0m \u001b[0mplt\u001b[0m\u001b[0;34m\u001b[0m\u001b[0m\n\u001b[1;32m      8\u001b[0m \u001b[0;32mimport\u001b[0m \u001b[0mtime\u001b[0m\u001b[0;34m\u001b[0m\u001b[0m\n\u001b[0;32m----> 9\u001b[0;31m \u001b[0;32mimport\u001b[0m \u001b[0mextract_data\u001b[0m\u001b[0;34m\u001b[0m\u001b[0m\n\u001b[0m",
      "\u001b[0;31mImportError\u001b[0m: No module named 'extract_data'"
     ],
     "output_type": "error"
    }
   ],
   "source": [
    "from sklearn import svm\n",
    "from sklearn import decomposition\n",
    "from tensorflow.examples.tutorials.mnist import input_data\n",
    "import tensorflow as tf\n",
    "from mpl_toolkits.mplot3d import Axes3D\n",
    "import numpy as np\n",
    "import matplotlib.pyplot as plt\n",
    "import time\n",
    "import extract_data"
   ]
  },
  {
   "cell_type": "code",
   "execution_count": null,
   "metadata": {},
   "outputs": [],
   "source": [
    "with tf.Session() as sess:\n",
    "    coord = tf.train.Coordinator()\n",
    "    threads = tf.train.start_queue_runners(sess=sess, coord=coord)\n",
    "    \n",
    "    image_train, label_train = sess.run([extract_data.image_batch_train, extract_data.label_batch_train])\n",
    "    # for l in range(np.shape(label_train)[0]):\n",
    "    #     print(chr(label_train[l]))\n",
    "    label_train = one_hot_encoder.array_fit(label_train)\n",
    "    # for j in range(np.shape(image_train)[0]):\n",
    "    #     plt.imshow(np.reshape(image_train[j], [16, 16]))\n",
    "    #     plt.show()\n",
    "    # print(np.shape(image_train))\n",
    "    # print(label_train)\n",
    "    coord.clear_stop()\n",
    "    coord.join(threads)"
   ]
  },
  {
   "cell_type": "code",
   "execution_count": 13,
   "metadata": {
    "collapsed": false
   },
   "outputs": [
    {
     "name": "stdout",
     "output_type": "stream",
     "text": [
      "开始训练：\n"
     ]
    },
    {
     "name": "stdout",
     "output_type": "stream",
     "text": [
      "训练时间为： 584.541817\n训练完成!\n开始测试：\n"
     ]
    },
    {
     "name": "stdout",
     "output_type": "stream",
     "text": [
      "the accuracy is: 0.943900\n测试完成！\n测试时间为： 172.02563499999997\n"
     ]
    }
   ],
   "source": [
    "# 调用svm进行训练\n",
    "clf = svm.SVC()\n",
    "print(\"开始训练：\")\n",
    "start1 = time.clock()\n",
    "clf.set_params(kernel='rbf').fit(train_data, train_label)\n",
    "end1 = time.clock()\n",
    "print(\"训练时间为：\", end1 - start1)\n",
    "print(\"训练完成!\")\n",
    "# 进行测试\n",
    "print(\"开始测试：\")\n",
    "start2 = time.clock()\n",
    "test_result = clf.predict(test_data)\n",
    "print(\"the accuracy is: %f\" % np.mean(np.equal(test_result, test_label)))\n",
    "print(\"测试完成！\")\n",
    "end2 = time.clock()\n",
    "print(\"测试时间为：\", end2-start2)"
   ]
  },
  {
   "cell_type": "code",
   "execution_count": null,
   "metadata": {},
   "outputs": [],
   "source": [
    ""
   ]
  }
 ],
 "metadata": {
  "kernelspec": {
   "display_name": "Python 2",
   "language": "python",
   "name": "python2"
  },
  "language_info": {
   "codemirror_mode": {
    "name": "ipython",
    "version": 2.0
   },
   "file_extension": ".py",
   "mimetype": "text/x-python",
   "name": "python",
   "nbconvert_exporter": "python",
   "pygments_lexer": "ipython2",
   "version": "2.7.6"
  }
 },
 "nbformat": 4,
 "nbformat_minor": 0
}